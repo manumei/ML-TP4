{
 "cells": [
  {
   "cell_type": "code",
   "execution_count": 1,
   "id": "5075ea03",
   "metadata": {},
   "outputs": [],
   "source": [
    "import numpy as np\n",
    "import matplotlib.pyplot as plt\n",
    "import pandas as pd\n",
    "import seaborn as sns\n",
    "from colorama import Fore, Style"
   ]
  },
  {
   "cell_type": "code",
   "execution_count": 4,
   "id": "22bb4fb8",
   "metadata": {},
   "outputs": [],
   "source": [
    "clust = pd.read_csv('data/clustering.csv')\n",
    "mnist = pd.read_csv('data/MNIST_dataset.csv')"
   ]
  },
  {
   "cell_type": "markdown",
   "id": "f294e035",
   "metadata": {},
   "source": [
    "# 1)"
   ]
  },
  {
   "cell_type": "markdown",
   "id": "93cfbdb7",
   "metadata": {},
   "source": [
    "No hay mucho que ver en los datos, se puede interpretear bastante claramente a simple vista. <br>\n",
    "Saco la columna redundante de los indices de fila, y g rafico A vs B a ver si me dice algo (en MNIST no hago nada en principio)"
   ]
  },
  {
   "cell_type": "code",
   "execution_count": null,
   "id": "731000c8",
   "metadata": {},
   "outputs": [],
   "source": [
    "# Base Process\n",
    "clust = clust.drop(\"Unnamed: 0\", axis=1)"
   ]
  },
  {
   "cell_type": "code",
   "execution_count": null,
   "id": "00bdaf8b",
   "metadata": {},
   "outputs": [],
   "source": [
    "# Print clust preview\n",
    "print(Fore.CYAN + \"Clust DataFrame Preview:\" + Style.RESET_ALL)\n",
    "print(clust.head(n=15))"
   ]
  },
  {
   "cell_type": "code",
   "execution_count": null,
   "id": "36a300d1",
   "metadata": {},
   "outputs": [],
   "source": [
    "plt.figure(figsize=(8, 6))\n",
    "sns.scatterplot(data=clust, x='A', y='B', alpha=0.5)\n",
    "plt.title('Scatter plot of A vs B')\n",
    "plt.xlabel('A')\n",
    "plt.ylabel('B')\n",
    "plt.show()"
   ]
  }
 ],
 "metadata": {
  "kernelspec": {
   "display_name": "gpu",
   "language": "python",
   "name": "python3"
  },
  "language_info": {
   "codemirror_mode": {
    "name": "ipython",
    "version": 3
   },
   "file_extension": ".py",
   "mimetype": "text/x-python",
   "name": "python",
   "nbconvert_exporter": "python",
   "pygments_lexer": "ipython3",
   "version": "3.13.2"
  }
 },
 "nbformat": 4,
 "nbformat_minor": 5
}
